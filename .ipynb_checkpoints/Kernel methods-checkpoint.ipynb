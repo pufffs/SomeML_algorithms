{
 "cells": [
  {
   "cell_type": "code",
   "execution_count": 1,
   "metadata": {},
   "outputs": [],
   "source": [
    "import ipywidgets\n",
    "from ipywidgets import interact, interactive, interact_manual\n",
    "import IPython\n",
    "from IPython.display import display, clear_output\n",
    "from matplotlib import rcParams \n",
    "\n",
    "import numpy as np\n",
    "import matplotlib.pyplot as plt\n",
    "\n",
    "from packages.Util import GD\n",
    "from packages.data_generation import DG\n",
    "from packages.Optimizers import k_Logistic, k_SVM, k_Perceptron, k_Regression\n",
    "from packages.Kernels import Polynomial, Linear, RBF\n",
    "from packages.Regularizers import Regularizer, L1, L2\n",
    "\n",
    "from sklearn import svm\n",
    "from sklearn import datasets"
   ]
  },
  {
   "cell_type": "markdown",
   "metadata": {},
   "source": [
    "# Kernelized Perceptron\n",
    "Both perceptron and SVM can be kernelized, i.e. the output of the feature space can be passed through the sign function. \n",
    "\n",
    "$$ \\hat{y} = \\text{sign}\\left[\\hat{f}(x)\\right] =\\text{sign} \\left[ \\sum_{i=1}^N \\alpha_i K(x_i, x) \\right] $$ and a perceptron loss applied to the difference between the predictor and the true value. \n",
    "\n",
    "The perceptron loss over a single data point can be posed as:\n",
    "\n",
    "$$ l(\\alpha;x_j, y_j) = \\max \\left\\{0, -\\sum_{j=1}^N y_j \\alpha_i K(x_i, x_j) \\right\\} $$ \n",
    "\n",
    "The parameters are updated as follows: \n",
    "If $\\hat{y}(x) \\neq y(x)$, set $\\alpha \\gets \\alpha + \\eta_ty_iK(x_i,x)$. "
   ]
  },
  {
   "cell_type": "code",
   "execution_count": 2,
   "metadata": {
    "scrolled": true
   },
   "outputs": [
    {
     "data": {
      "application/vnd.jupyter.widget-view+json": {
       "model_id": "46714a6d957842fbaf8ee311f05168d7",
       "version_major": 2,
       "version_minor": 0
      },
      "text/plain": [
       "interactive(children=(Dropdown(description='Dataset', options=('Blobs', 'Circles', 'Moons'), value='Blobs'), D…"
      ]
     },
     "metadata": {},
     "output_type": "display_data"
    },
    {
     "data": {
      "text/plain": [
       "<function __main__.kernelized_perceptron(dataset, kernel, bw, deg, reg, noise, bs, ite, eta0, lrm, regularizer=True)>"
      ]
     },
     "execution_count": 2,
     "metadata": {},
     "output_type": "execute_result"
    }
   ],
   "source": [
    "N=200\n",
    "def kernelized_perceptron(dataset, kernel, bw, deg, reg, noise, bs, ite, eta0, lrm, regularizer=True):\n",
    "    if dataset == 'Blobs':\n",
    "        X, Y = datasets.make_blobs(n_samples=N, centers=2, random_state=3, cluster_std=10*noise)\n",
    "    elif dataset == 'Circles':\n",
    "        X, Y = datasets.make_circles(n_samples=N, factor=0.48, random_state=26, noise=noise)\n",
    "    elif dataset == 'Moons' :\n",
    "        X, Y = datasets.make_moons(n_samples=N, random_state=26, noise=noise)\n",
    "    Y[np.where(Y==0)[0]] = -1\n",
    "    \n",
    "    if kernel == 'Linear':\n",
    "        _kernel = Linear\n",
    "    elif kernel == 'Polynomial':\n",
    "        _kernel = Polynomial\n",
    "    elif kernel == 'RBF':\n",
    "        _kernel = RBF\n",
    "    \n",
    "    if regularizer:\n",
    "        _regularizer = L2\n",
    "    else:\n",
    "        _regularizer = Regularizer\n",
    "    \n",
    "    opts = {'batchsize': bs,\n",
    "           'iter': ite,\n",
    "           'eta0':eta0,\n",
    "           'learning rate': lrm}\n",
    "    \n",
    "    np.random.seed(1)\n",
    "    alpha0 = np.random.randn(X.shape[0]) * 0\n",
    "    optimizer = k_Perceptron(X, Y, kernel=_kernel, bw=bw, deg=deg, reg=reg, regularizer=_regularizer)\n",
    "    alpha_hat = GD(alpha0, optimizer, opts)[-1]\n",
    "    #print(alpha_hat)\n",
    "    fig, ax1 = plt.subplots(figsize=(12,6))\n",
    "    \n",
    "    min1, max1 = X[:,0].min()-0.5, X[:,0].max()+0.5\n",
    "    min2, max2 = X[:,1].min()-0.5, X[:,1].max()+0.5\n",
    "    x1grid = np.arange(min1, max1, 0.1)\n",
    "    x2grid = np.arange(min2, max2, 0.1)\n",
    "    xx, yy = np.meshgrid(x1grid, x2grid)\n",
    "    r1, r2 = xx.flatten(), yy.flatten()\n",
    "    r1, r2 = r1.reshape((len(r1), 1)), r2.reshape((len(r2), 1))\n",
    "    grid = np.hstack((r1,r2))\n",
    "    intercept_c = np.ones((grid.shape[0],1))\n",
    "    #grid = np.concatenate((grid, intercept_c), axis=1)\n",
    "    Y1 = optimizer.predict(grid, alpha_hat)\n",
    "    zz = Y1.reshape(xx.shape)\n",
    "    c = ax1.contourf(xx, yy, zz, cmap='RdBu', alpha=0.46)\n",
    "    #plt.colorbar(c)\n",
    "    ax1.plot(X[np.where(Y==1)[0], 0 ], X[np.where(Y==1)[0], 1], 'bs', label='Positive data')\n",
    "    ax1.plot(X[np.where(Y==-1)[0], 0 ], X[np.where(Y==-1)[0], 1], 'ro', label='Negtive data')\n",
    "    ax1.legend(bbox_to_anchor=(1, 1))\n",
    "    \n",
    "d = ipywidgets.Dropdown(options=['Blobs', 'Circles', 'Moons'], value='Blobs', description='Dataset')\n",
    "\n",
    "\n",
    "k = ipywidgets.Dropdown(options=['Linear', 'Polynomial', 'RBF'], value='Linear', description='Kernel')\n",
    "\n",
    "reg = ipywidgets.FloatSlider(value=1e-2,min=1e-3,max=1,step=1e-3,description='Regularization:',\n",
    "                           style={'description_width': 'initial'},continuous_update=False)\n",
    "\n",
    "bw=ipywidgets.FloatSlider(value=0.01,min=0.001,max=3,step=0.01,description='Bandwidth:',\n",
    "                                    style={'description_width': 'initial'},continuous_update=False)\n",
    "\n",
    "deg=ipywidgets.IntSlider(value=2,min=1,max=10, step=1,description='Degree',style={'description_width': 'initial'})\n",
    "\n",
    "noise=ipywidgets.FloatSlider(value=0.05,min=0.01,max=0.3,step=0.01,readout_format='.2f',description='Noise level:',\n",
    "                                    style={'description_width': 'initial'},continuous_update=False)\n",
    "\n",
    "bs = ipywidgets.IntSlider(value=20, min=1, max=200, step=1, description='Batch size')\n",
    "\n",
    "ite = ipywidgets.IntSlider(value=50, min=20, max=500, step=20, description='Iterations')\n",
    "eta_widget = ipywidgets.FloatSlider(value=1, min=0.01, max=5., step=0.5, description='Learning rate')\n",
    "lrm_widget = ipywidgets.ToggleButtons(options=['None', 'Adagrad', 'Annealing'], value='None', description='LR mode')\n",
    "\n",
    "interact(kernelized_perceptron, dataset=d, kernel=k, bw=bw, deg=deg, \n",
    "         reg=reg, noise=noise, bs=bs, ite=ite, eta0=eta_widget, lrm=lrm_widget)"
   ]
  },
  {
   "cell_type": "markdown",
   "metadata": {},
   "source": [
    "# Kernelized SVM"
   ]
  },
  {
   "cell_type": "code",
   "execution_count": 3,
   "metadata": {
    "scrolled": false
   },
   "outputs": [
    {
     "data": {
      "application/vnd.jupyter.widget-view+json": {
       "model_id": "9872f9a7e7fb4ca4b06e33af0072f9a3",
       "version_major": 2,
       "version_minor": 0
      },
      "text/plain": [
       "interactive(children=(Dropdown(description='Dataset', options=('Blobs', 'Circles', 'Moons'), value='Blobs'), D…"
      ]
     },
     "metadata": {},
     "output_type": "display_data"
    },
    {
     "data": {
      "text/plain": [
       "<function __main__.kernelized_SVM(dataset, kernel, bw, deg, reg, noise, bs, ite, eta0, lrm, regularizer=True)>"
      ]
     },
     "execution_count": 3,
     "metadata": {},
     "output_type": "execute_result"
    }
   ],
   "source": [
    "N=200\n",
    "def kernelized_SVM(dataset, kernel, bw, deg, reg, noise, bs, ite, eta0, lrm, regularizer=True):\n",
    "    if dataset == 'Blobs':\n",
    "        X, Y = datasets.make_blobs(n_samples=N, centers=2, random_state=3, cluster_std=10*noise)\n",
    "    elif dataset == 'Circles':\n",
    "        X, Y = datasets.make_circles(n_samples=N, factor=0.48, random_state=26, noise=noise)\n",
    "    elif dataset == 'Moons' :\n",
    "        X, Y = datasets.make_moons(n_samples=N, random_state=26, noise=noise)\n",
    "    Y[np.where(Y==0)[0]] = -1\n",
    "    \n",
    "    if kernel == 'Linear':\n",
    "        _kernel = Linear\n",
    "    elif kernel == 'Polynomial':\n",
    "        _kernel = Polynomial\n",
    "    elif kernel == 'RBF':\n",
    "        _kernel = RBF\n",
    "    \n",
    "    if regularizer:\n",
    "        _regularizer = L2\n",
    "    else:\n",
    "        _regularizer = Regularizer\n",
    "    \n",
    "    opts = {'batchsize': bs,\n",
    "           'iter': ite,\n",
    "           'eta0':eta0,\n",
    "           'learning rate': lrm}\n",
    "    \n",
    "    alpha0 = np.zeros(X.shape[0])\n",
    "    #X = np.concatenate((X, np.ones((X.shape[0], 1))), axis=1)\n",
    "    optimizer = k_SVM(X, Y, kernel=_kernel, bw=bw, deg=deg, reg=reg, regularizer=_regularizer)\n",
    "    alpha_hat = GD(alpha0, optimizer, opts)[-1]\n",
    "\n",
    "    fig, ax1 = plt.subplots(figsize=(10,5))\n",
    "    min1, max1 = X[:,0].min()-0.5, X[:,0].max()+0.5\n",
    "    min2, max2 = X[:,1].min()-0.5, X[:,1].max()+0.5\n",
    "    x1grid = np.arange(min1, max1, 0.1)\n",
    "    x2grid = np.arange(min2, max2, 0.1)\n",
    "    xx, yy = np.meshgrid(x1grid, x2grid)\n",
    "    r1, r2 = xx.flatten(), yy.flatten()\n",
    "    r1, r2 = r1.reshape((len(r1), 1)), r2.reshape((len(r2), 1))\n",
    "    grid = np.hstack((r1,r2))\n",
    "    intercept_c = np.ones((grid.shape[0],1))\n",
    "    #grid = np.concatenate((grid, intercept_c), axis=1)\n",
    "    Y1 = optimizer.predict(grid, alpha_hat)\n",
    "    zz = Y1.reshape(xx.shape)\n",
    "    c = ax1.contourf(xx, yy, zz, cmap='RdBu', alpha=0.46)\n",
    "    #plt.colorbar(c)\n",
    "    ax1.plot(X[np.where(Y==1)[0], 0 ], X[np.where(Y==1)[0], 1], 'bs', label='Positive data')\n",
    "    ax1.plot(X[np.where(Y==-1)[0], 0 ], X[np.where(Y==-1)[0], 1], 'ro', label='Negtive data')\n",
    "    ax1.legend(bbox_to_anchor=(1, 1))\n",
    "    \n",
    "d = ipywidgets.Dropdown(options=['Blobs', 'Circles', 'Moons'], value='Blobs', description='Dataset')\n",
    "\n",
    "\n",
    "k = ipywidgets.Dropdown(options=['Linear', 'Polynomial', 'RBF'], value='Linear', description='Kernel')\n",
    "\n",
    "reg = ipywidgets.FloatSlider(value=1e-2,min=1e-3,max=1,step=1e-3,description='Regularization:',\n",
    "                           style={'description_width': 'initial'},continuous_update=False)\n",
    "\n",
    "bw=ipywidgets.FloatSlider(value=0.01,min=0.001,max=3,step=0.01,description='Bandwidth:',\n",
    "                                    style={'description_width': 'initial'},continuous_update=False)\n",
    "\n",
    "deg=ipywidgets.IntSlider(value=2,min=1,max=10, step=1,description='Degree',style={'description_width': 'initial'})\n",
    "\n",
    "noise=ipywidgets.FloatSlider(value=0.05,min=0.01,max=0.3,step=0.01,readout_format='.2f',description='Noise level:',\n",
    "                                    style={'description_width': 'initial'},continuous_update=False)\n",
    "\n",
    "bs = ipywidgets.IntSlider(value=20, min=1, max=200, step=1, description='Batch size')\n",
    "\n",
    "ite = ipywidgets.IntSlider(value=10, min=10, max=500, step=20, description='Iterations')\n",
    "eta_widget = ipywidgets.FloatSlider(value=1, min=0.1, max=5., step=0.5, description='Learning rate')\n",
    "lrm_widget = ipywidgets.ToggleButtons(options=['None', 'Adagrad', 'Annealing'], value='None', description='LR mode')\n",
    "\n",
    "interact(kernelized_SVM, dataset=d, kernel=k, bw=bw, deg=deg, \n",
    "         reg=reg, noise=noise, bs=bs, ite=ite, eta0=eta_widget, lrm=lrm_widget)"
   ]
  },
  {
   "cell_type": "markdown",
   "metadata": {},
   "source": [
    "# Kernelized Logistic"
   ]
  },
  {
   "cell_type": "code",
   "execution_count": 6,
   "metadata": {},
   "outputs": [
    {
     "data": {
      "application/vnd.jupyter.widget-view+json": {
       "model_id": "3301caf6c99a4128bbe10953adaddf3c",
       "version_major": 2,
       "version_minor": 0
      },
      "text/plain": [
       "interactive(children=(Dropdown(description='Dataset', options=('Blobs', 'Circles', 'Moons'), value='Blobs'), D…"
      ]
     },
     "metadata": {},
     "output_type": "display_data"
    },
    {
     "data": {
      "text/plain": [
       "<function __main__.kernelized_Logistic(dataset, kernel, bw, deg, reg, noise, bs, ite, eta0, lrm, regularizer=True)>"
      ]
     },
     "execution_count": 6,
     "metadata": {},
     "output_type": "execute_result"
    }
   ],
   "source": [
    "rcParams['figure.figsize'] = (10, 5)\n",
    "rcParams['font.size'] = 16\n",
    "N=200\n",
    "def kernelized_Logistic(dataset, kernel, bw, deg, reg, noise, bs, ite, eta0, lrm, regularizer=True):\n",
    "    if dataset == 'Blobs':\n",
    "        X, Y = datasets.make_blobs(n_samples=N, centers=2, random_state=3, cluster_std=10*noise)\n",
    "    elif dataset == 'Circles':\n",
    "        X, Y = datasets.make_circles(n_samples=N, factor=0.48, random_state=26, noise=noise)\n",
    "    elif dataset == 'Moons' :\n",
    "        X, Y = datasets.make_moons(n_samples=N, random_state=26, noise=noise)\n",
    "    Y[np.where(Y==0)[0]] = -1\n",
    "    \n",
    "    if kernel == 'Linear':\n",
    "        _kernel = Linear\n",
    "    elif kernel == 'Polynomial':\n",
    "        _kernel = Polynomial\n",
    "    elif kernel == 'RBF':\n",
    "        _kernel = RBF\n",
    "    \n",
    "    if regularizer:\n",
    "        _regularizer = L2\n",
    "    else:\n",
    "        _regularizer = Regularizer\n",
    "    \n",
    "    opts = {'batchsize': bs,\n",
    "           'iter': ite,\n",
    "           'eta0':eta0,\n",
    "           'learning rate': lrm}\n",
    "    \n",
    "    np.random.seed(1)\n",
    "    alpha0 = np.random.randn(X.shape[0]) * 0\n",
    "    optimizer = k_Logistic(X, Y, kernel=_kernel, bw=bw, deg=deg, reg=reg, regularizer=_regularizer)\n",
    "    alpha_hat = GD(alpha0, optimizer, opts)[-1]\n",
    "    \n",
    "    fig, ax1 = plt.subplots()\n",
    "    \n",
    "    min1, max1 = X[:,0].min()-0.5, X[:,0].max()+0.5\n",
    "    min2, max2 = X[:,1].min()-0.5, X[:,1].max()+0.5\n",
    "    x1grid = np.arange(min1, max1, 0.1)\n",
    "    x2grid = np.arange(min2, max2, 0.1)\n",
    "    xx, yy = np.meshgrid(x1grid, x2grid)\n",
    "    r1, r2 = xx.flatten(), yy.flatten()\n",
    "    r1, r2 = r1.reshape((len(r1), 1)), r2.reshape((len(r2), 1))\n",
    "    grid = np.hstack((r1,r2))\n",
    "    intercept_c = np.ones((grid.shape[0],1))\n",
    "    #grid = np.concatenate((grid, intercept_c), axis=1)\n",
    "    Y1 = optimizer.predict(grid, alpha_hat)\n",
    "    zz = Y1.reshape(xx.shape)\n",
    "    c = ax1.contourf(xx, yy, zz, cmap='RdBu', alpha=0.5)\n",
    "    plt.colorbar(c)\n",
    "    ax1.plot(X[np.where(Y==1)[0], 0 ], X[np.where(Y==1)[0], 1], 'bs', label='Positive data')\n",
    "    ax1.plot(X[np.where(Y==-1)[0], 0 ], X[np.where(Y==-1)[0], 1], 'ro', label='Negtive data')\n",
    "    ax1.legend(bbox_to_anchor=(1.6, 1) )\n",
    "    #Y2 = [i for i in Y1 if i!=0 and i!=1]\n",
    "    #print(len(Y2))\n",
    "d = ipywidgets.Dropdown(options=['Blobs', 'Circles', 'Moons'], value='Blobs', description='Dataset')\n",
    "\n",
    "\n",
    "k = ipywidgets.Dropdown(options=['Linear', 'Polynomial', 'RBF'], value='Linear', description='Kernel')\n",
    "\n",
    "reg = ipywidgets.FloatSlider(value=1e-2,min=1e-3,max=1,step=1e-3,description='Regularization:',\n",
    "                           style={'description_width': 'initial'},continuous_update=False)\n",
    "\n",
    "bw=ipywidgets.FloatSlider(value=0.1,min=0.001,max=3,step=0.01,description='Bandwidth:',\n",
    "                                    style={'description_width': 'initial'},continuous_update=False)\n",
    "\n",
    "deg=ipywidgets.IntSlider(value=2,min=1,max=10, step=1,description='Degree',style={'description_width': 'initial'})\n",
    "\n",
    "noise=ipywidgets.FloatSlider(value=0.05,min=0.01,max=0.3,step=0.01,readout_format='.2f',description='Noise level:',\n",
    "                                    style={'description_width': 'initial'},continuous_update=False)\n",
    "\n",
    "bs = ipywidgets.IntSlider(value=20, min=1, max=200, step=1, description='Batch size')\n",
    "\n",
    "ite = ipywidgets.IntSlider(value=50, min=20, max=500, step=20, description='Iterations')\n",
    "eta_widget = ipywidgets.FloatSlider(value=1, min=0.01, max=5., step=0.5, description='Learning rate')\n",
    "lrm_widget = ipywidgets.ToggleButtons(options=['None', 'Adagrad', 'Annealing'], value='None', description='LR mode')\n",
    "\n",
    "interact(kernelized_Logistic, dataset=d, kernel=k, bw=bw, deg=deg, \n",
    "         reg=reg, noise=noise, bs=bs, ite=ite, eta0=eta_widget, lrm=lrm_widget)"
   ]
  },
  {
   "cell_type": "markdown",
   "metadata": {},
   "source": [
    "# Kernelized Regression"
   ]
  },
  {
   "cell_type": "code",
   "execution_count": 2,
   "metadata": {},
   "outputs": [
    {
     "data": {
      "text/plain": [
       "<matplotlib.legend.Legend at 0x1dcd9a210c8>"
      ]
     },
     "execution_count": 2,
     "metadata": {},
     "output_type": "execute_result"
    },
    {
     "data": {
      "image/png": "[encoded data removed]",
      "text/plain": [
       "<Figure size 720x360 with 1 Axes>"
      ]
     },
     "metadata": {
      "needs_background": "light"
     },
     "output_type": "display_data"
    }
   ],
   "source": [
    "num_points = 100\n",
    "xmin = 0\n",
    "xmax = 10\n",
    "noise = 0.2\n",
    "\n",
    "X = np.reshape(np.linspace(xmin, xmax, num_points), [-1, 1])  # create 1-D input data\n",
    "F = X + np.sin(X * 5) - np.cos(X * 10)  # true functional response\n",
    "Y = F + noise * np.random.randn(num_points, 1)  # generate noisy labels\n",
    "\n",
    "# Training Data\n",
    "training_idx = np.arange(0, 50, 2)\n",
    "Xtr = X[training_idx, :]\n",
    "Ytr = Y[training_idx]\n",
    "\n",
    "# Test Data\n",
    "test_idx = np.setdiff1d(np.arange(0, num_points, 1), training_idx)\n",
    "Xtest = X[test_idx, :]\n",
    "Ytest = Y[test_idx]\n",
    "fig, ax = plt.subplots(figsize=(10,5))\n",
    "ax.plot(Xtr, Ytr, 'r*',label='training data')\n",
    "ax.plot(Xtest, Ytest,'bo', label='testing data')\n",
    "ax.plot(X,Y, label='ground truth')\n",
    "ax.legend()"
   ]
  },
  {
   "cell_type": "code",
   "execution_count": 6,
   "metadata": {},
   "outputs": [
    {
     "data": {
      "application/vnd.jupyter.widget-view+json": {
       "model_id": "b5f3d24a482446bdae53aa5a517b7caf",
       "version_major": 2,
       "version_minor": 0
      },
      "text/plain": [
       "interactive(children=(Dropdown(description='Kernel', options=('Linear', 'Polynomial', 'RBF'), value='Linear'),…"
      ]
     },
     "metadata": {},
     "output_type": "display_data"
    },
    {
     "data": {
      "text/plain": [
       "<function __main__.kernelized_regression(kernel, bw, deg, reg, bs, ite, eta0, lrm, noise, regularizer=True, cf=True)>"
      ]
     },
     "execution_count": 6,
     "metadata": {},
     "output_type": "execute_result"
    }
   ],
   "source": [
    "def kernelized_regression(kernel, bw, deg, reg, bs, ite, eta0, lrm, noise, regularizer=True, cf=True):    \n",
    "    if kernel == 'Linear':\n",
    "        _kernel = Linear\n",
    "    elif kernel == 'Polynomial':\n",
    "        _kernel = Polynomial\n",
    "    elif kernel == 'RBF':\n",
    "        _kernel = RBF\n",
    "    \n",
    "    if regularizer:\n",
    "        _regularizer = L2\n",
    "    else:\n",
    "        _regularizer = Regularizer\n",
    "    \n",
    "    opts = {'batchsize': bs,\n",
    "           'iter': ite,\n",
    "           'eta0':eta0,\n",
    "           'learning rate': lrm}\n",
    "    N = 100\n",
    "    dim = 1\n",
    "    np.random.seed(26)\n",
    "    x_full, y_full = DG(N, noise, dim).Gaussianbased_data1(0., 1.)\n",
    "    X = x_full.reshape(-1,1)\n",
    "    Y = y_full\n",
    "    x_plt = np.linspace(-3, 3, 200)\n",
    "    y_plt = 1 + x_plt + 0.3 * np.sin(10*x_plt)\n",
    "    Xtest = x_plt.reshape(-1,1)\n",
    "    \n",
    "    alpha0 = np.random.randn(X.shape[0]) * 0\n",
    "    optimizer = k_Regression(X, Y, kernel=_kernel, bw=bw, deg=deg, reg=reg, regularizer=_regularizer)\n",
    "    alpha_hat = optimizer.closed() if cf else GD(alpha0, optimizer, opts)[-1]\n",
    "    Yval = optimizer.predict(Xtest, alpha_hat)\n",
    "    fig, ax1 = plt.subplots(figsize=(10,5))\n",
    "    #ax1.plot(Xtr, Ytr, 'r*',label='training data')\n",
    "    ax1.plot(x_plt, Yval, label='kernel', lw=3)\n",
    "    ax1.plot(x_full, y_full,'bo', label='training data')\n",
    "    ax1.plot(x_plt, y_plt, label='ground truth')\n",
    "    ax1.set_ylim(np.min(y_plt)-0.2,np.max(y_plt)+0.2)\n",
    "    ax1.legend()\n",
    "\n",
    "k = ipywidgets.Dropdown(options=['Linear', 'Polynomial', 'RBF'], value='Linear', description='Kernel')\n",
    "\n",
    "reg = ipywidgets.FloatSlider(value=1e-3,min=1e-3,max=1e-1,step=1e-3,description='Regularization:',\n",
    "                           style={'description_width': 'initial'},continuous_update=False)\n",
    "\n",
    "bw=ipywidgets.FloatSlider(value=0.1,min=0.001,max=3,step=0.01,description='Bandwidth:',\n",
    "                                    style={'description_width': 'initial'},continuous_update=False)\n",
    "\n",
    "deg=ipywidgets.IntSlider(value=2,min=1,max=10, step=1,description='Degree',style={'description_width': 'initial'})\n",
    "\n",
    "bs = ipywidgets.IntSlider(value=20, min=1, max=200, step=1, description='Batch size')\n",
    "noise = ipywidgets.FloatSlider(value=0.2, min=0.1, max=1., step=0.1, description='Data noise')\n",
    "ite = ipywidgets.IntSlider(value=50, min=20, max=500, step=20, description='Iterations')\n",
    "eta_widget = ipywidgets.FloatSlider(value=0.01, min=0.01, max=5., step=0.01, description='Learning rate')\n",
    "lrm_widget = ipywidgets.ToggleButtons(options=['None', 'Adagrad', 'Annealing'], value='None', description='LR mode')\n",
    "\n",
    "interact(kernelized_regression, kernel=k, bw=bw, deg=deg, \n",
    "         reg=reg, bs=bs, ite=ite, eta0=eta_widget, lrm=lrm_widget, noise=noise)"
   ]
  },
  {
   "cell_type": "markdown",
   "metadata": {},
   "source": [
    "RBF kernel is actually a stack of polynomial kernels in infinite dimensions. Bandwidth is the scaling factor that scales the influence that two points have on each other when they are mapped onto an infinite-dimensional linear space. \n",
    "\n",
    "When bandwidth is very small, the information the two points have on the hight-dimensional space is narrowed. When we make predictions, only very close points to that testing point have influence on it. So the decision boundary is corrected by only very few points nearby (very similar to KNN), it is easy to overfit with small bandwidth and also we can see the curve is quite spiky when bandwidth is tiny.\n",
    "\n",
    "When bandwidth is very large, even far data points have impact on some testing data, so the decision boundary is calibrated by many data points, it will be much smoother. But a large bandwidth has the potential to lackfit.\n",
    "\n",
    "So it is important to choose a proper bandwidth: __Cross Validation__ !"
   ]
  }
 ],
 "metadata": {
  "kernelspec": {
   "display_name": "Python 3",
   "language": "python",
   "name": "python3"
  },
  "language_info": {
   "codemirror_mode": {
    "name": "ipython",
    "version": 3
   },
   "file_extension": ".py",
   "mimetype": "text/x-python",
   "name": "python",
   "nbconvert_exporter": "python",
   "pygments_lexer": "ipython3",
   "version": "3.7.4"
  }
 },
 "nbformat": 4,
 "nbformat_minor": 2
}
