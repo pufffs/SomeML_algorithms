{
 "cells": [
  {
   "cell_type": "code",
   "execution_count": 1,
   "metadata": {},
   "outputs": [],
   "source": [
    "#By pf\n",
    "\n",
    "# Numerical modules\n",
    "import numpy as np\n",
    "import matplotlib.pyplot as plt\n",
    "\n",
    "#Ipython modules\n",
    "import IPython\n",
    "import ipywidgets\n",
    "from ipywidgets import interact, interactive, interact_manual\n",
    "\n",
    "#custom packages\n",
    "#from packages.data_generation import polydata_generation\n",
    "from packages.data_generation import DG\n",
    "from packages.Regressors import LinearReg\n",
    "from packages.Util import GD, CrossVal\n",
    "from packages.Regularizers import L1, L2"
   ]
  },
  {
   "cell_type": "markdown",
   "metadata": {},
   "source": [
    "# Data Generation"
   ]
  },
  {
   "cell_type": "code",
   "execution_count": 2,
   "metadata": {},
   "outputs": [
    {
     "data": {
      "image/png": "[encoded data removed]",
      "text/plain": [
       "<Figure size 864x432 with 1 Axes>"
      ]
     },
     "metadata": {
      "needs_background": "light"
     },
     "output_type": "display_data"
    }
   ],
   "source": [
    "point_num= 100 # number of points\n",
    "noise= 0.5 \n",
    "w_true= np.array([1, 3]) #real weights when producing labels\n",
    "X, Y= DG(point_num, noise, w_true.size).polydata_generation(w_true) # this is depicted in packages\n",
    "fig, ax= plt.subplots(1,1, figsize=(12,6))\n",
    "#Y = np.atleast_2d(Y).T     #plot also works if let Y be 2d.\n",
    "ax.plot(X[:,-1], Y, '*')\n",
    "ax.set_title('Generated Data')\n",
    "ax.set_xlabel('x')\n",
    "ax.set_ylabel('y')\n",
    "ax.grid()"
   ]
  },
  {
   "cell_type": "markdown",
   "metadata": {},
   "source": [
    "# Gradient Descent\n",
    "The update process of the (steepest)gradient descent is described as: \n",
    "$$w^{t+1}=w^t-\\eta_k \\nabla L(w^t)$$\n",
    "where $L(w)$ is the total loss function at the position $w$. In this case it is equivalent to the **empirical risk**:\n",
    "$$L(w)=\\frac{1}{n}\\sum_{i=1}^{n}l(x_i,y_i,w)=\\frac{1}{n}\\|Y-Xw\\|_2^2$$\n",
    "$$l(x_i,y_i,w)=\\frac{1}{2}(w^Tx_i-y_i)^2$$\n",
    "In the case of linear regression, we easily obtain that\n",
    "$$w^{t+1}=w^t-\\frac{1}{n}\\eta_k X^T(Xw-y)=w^t-\\eta_t X^T(Xw-y)~~~where~\\eta_t=\\frac{1}{n}\\eta_k$$\n",
    "In the vanilla gradient descent, learning rate is set constant that $\\eta_k=\\eta_0$, however a constant learning rate is usually not a remedy for many practical problems. The computational complexity is $O(n_{\\text{iter}} \\cdot nd)$."
   ]
  },
  {
   "cell_type": "code",
   "execution_count": 14,
   "metadata": {},
   "outputs": [
    {
     "data": {
      "application/vnd.jupyter.widget-view+json": {
       "model_id": "d125bc1b32054063b71d86fdab15ebc5",
       "version_major": 2,
       "version_minor": 0
      },
      "text/plain": [
       "interactive(children=(FloatSlider(value=0.1, description='Learning rate:', max=1.0, min=0.1), IntSlider(value=…"
      ]
     },
     "metadata": {},
     "output_type": "display_data"
    },
    {
     "data": {
      "text/plain": [
       "<function __main__.hyper_para_interact(eta, iter_n)>"
      ]
     },
     "execution_count": 14,
     "metadata": {},
     "output_type": "execute_result"
    }
   ],
   "source": [
    "eta_widget = ipywidgets.FloatSlider(value=1e-1, min=1e-1, max=1., step=1e-1, description='Learning rate:')\n",
    "n_widget = ipywidgets.IntSlider(value=10, min=10, max=30., step=2, description='Iterations:')\n",
    "\n",
    "def hyper_para_interact(eta, iter_n):\n",
    "    opts = {'iter': iter_n,\n",
    "           'learning rate': \"None\",\n",
    "           \"eta0\": eta}\n",
    "    regressor = LinearReg(X, Y) # write in the self-created packages\n",
    "    closed_form_w = regressor.w_closedform()\n",
    "    w0 = np.zeros(X.shape[1])\n",
    "    trajectory = GD(w0, regressor, opts=opts) # in the Util.py under /packages directory\n",
    "    w_hat = trajectory[-1, :]\n",
    "    loss = regressor.test_loss(X, Y, w_hat)\n",
    "    \n",
    "    print('Closed form solution: ', closed_form_w)\n",
    "    print(f\"Solution by gradient descent: {w_hat}\")\n",
    "    print(f\"Training error: {loss}\")\n",
    "    fig, ax = plt.subplots(figsize=(12,6))\n",
    "    ax.plot(X[:,-1], Y, '*', label=\"Real data\")\n",
    "    ax.plot(X[:,-1], np.dot(X, w_hat), label=\"Fitted solution\")\n",
    "    ax.plot(X[:,-1], np.dot(X, closed_form_w), label=\"Real solution\")\n",
    "    \"\"\"above we directly use training data to plot, we can do this because its linear over x, so we can always get a line,\n",
    "    if not linear, we might encounter weird case that plot looks very chaotic because the their values are not ordered.\n",
    "    \"\"\"\n",
    "    ax.legend(loc=\"upper left\", fontsize=13)\n",
    "    ax.set_title('Fitting of linear regression')\n",
    "    ax.set_xlabel('x')\n",
    "    ax.set_ylabel('y')\n",
    "    \n",
    "interact(hyper_para_interact, eta=eta_widget, iter_n=n_widget) "
   ]
  },
  {
   "cell_type": "markdown",
   "metadata": {},
   "source": [
    "# Stochastic Gradient Descent\n",
    "When updating weights during the gradient descent algorithm, instead of computing full gradient, we surrogate the method by evaluating the gradient on one data at each epoch. Each data provides an unbiased but oscillating estimate:\n",
    "$$\\mathbb{E}\\left[\\frac{\\partial L(x,y)}{\\partial \\hat{w}}\\right] \\approx \\frac{\\partial L(x_i, y_i)}{\\partial \\hat{w}} = x_i (x_i^\\top \\hat{w} - y_i).$$\n",
    "As the gradient depends on one sample so it is quite noisy and needs more iterations to converge. The computational complexity is $O(n_{\\text{iter}} \\cdot d)$.\n",
    "\n",
    "**Note**: Since the gradient at a single point is noisy, the learning rate is recommended to be smaller as approaching to the convergence.\n"
   ]
  },
  {
   "cell_type": "code",
   "execution_count": 73,
   "metadata": {},
   "outputs": [
    {
     "data": {
      "application/vnd.jupyter.widget-view+json": {
       "model_id": "61917812498e47a58b0715405987b16d",
       "version_major": 2,
       "version_minor": 0
      },
      "text/plain": [
       "interactive(children=(FloatSlider(value=0.1, description='Learning rate:', max=1.0, min=0.01, step=0.05), IntS…"
      ]
     },
     "metadata": {},
     "output_type": "display_data"
    },
    {
     "data": {
      "text/plain": [
       "<function __main__.hyper_para_interact(eta, iter_n)>"
      ]
     },
     "execution_count": 73,
     "metadata": {},
     "output_type": "execute_result"
    }
   ],
   "source": [
    "eta_widget = ipywidgets.FloatSlider(value=1e-1, min=1e-2, max=1., step=5e-2, description='Learning rate:')\n",
    "n_widget = ipywidgets.IntSlider(value=10, min=10, max=50., step=1, description='Iterations:')\n",
    "\n",
    "def hyper_para_interact(eta, iter_n):\n",
    "    opts = {'iter': iter_n,\n",
    "           'learning rate': \"None\",\n",
    "           \"eta0\": eta,\n",
    "           \"batchsize\": 1}\n",
    "    regressor = LinearReg(X, Y)\n",
    "    closed_form_w = regressor.w_closedform()\n",
    "    w0 = np.zeros(X.shape[1])\n",
    "    trajectory = GD(w0, regressor, opts=opts) #integrated in the GD function with batchsize=1\n",
    "    w_hat = trajectory[-1, :]\n",
    "    print('Closed form solution: ', closed_form_w)\n",
    "    print(f\"Solution by gradient descent: {w_hat}\")\n",
    "    fig, ax = plt.subplots(figsize=(12,6))\n",
    "    ax.plot(X[:,-1], Y, '*', label=\"Real data\")\n",
    "    ax.plot(X[:,-1], np.dot(X, w_hat), label=\"Fitted solution\")\n",
    "    ax.plot(X[:,-1], np.dot(X, closed_form_w), label=\"Real solution\")\n",
    "    ax.legend(loc=\"upper left\", fontsize=13)\n",
    "    ax.set_title('Fitting of linear regression')\n",
    "    ax.set_xlabel('x')\n",
    "    ax.set_ylabel('y')\n",
    "    \n",
    "interact(hyper_para_interact, eta=eta_widget, iter_n=n_widget) "
   ]
  },
  {
   "cell_type": "markdown",
   "metadata": {},
   "source": [
    "# Mini-batch Gradient Descent:\n",
    "A trade-off between full gradient descent (higher cost, lower variance), and stochastic gradient descent (lower cost, higher variance), is done by computing the gradient of a mini-batch of points i.e.\n",
    "$$ \\mathbb{E}\\left[\\frac{\\partial L(x,y)}{\\partial \\hat{w}}\\right] \\approx \\frac{1}{|B|} \\sum_{i\\in B} \\frac{\\partial L(x_i, y_i)}{\\partial \\hat{w}} = \\frac{1}{|B|} \\sum_{i\\in B} x_i (x_i^\\top \\hat{w} - y_i). $$ \n",
    "\n",
    "The computational complexity is $O(n_{\\text{iter}} \\cdot |B| d)$."
   ]
  },
  {
   "cell_type": "code",
   "execution_count": 20,
   "metadata": {},
   "outputs": [
    {
     "data": {
      "application/vnd.jupyter.widget-view+json": {
       "model_id": "e4393ac290594413bffacc87cb1dc052",
       "version_major": 2,
       "version_minor": 0
      },
      "text/plain": [
       "interactive(children=(FloatSlider(value=0.1, description='Learning rate:', max=1.0, min=0.1), IntSlider(value=…"
      ]
     },
     "metadata": {},
     "output_type": "display_data"
    },
    {
     "data": {
      "text/plain": [
       "<function __main__.hyper_para_interact(eta, iter_n, batchsize)>"
      ]
     },
     "execution_count": 20,
     "metadata": {},
     "output_type": "execute_result"
    }
   ],
   "source": [
    "eta_widget = ipywidgets.FloatSlider(value=1e-1, min=1e-1, max=1., step=1e-1, description='Learning rate:')\n",
    "n_widget = ipywidgets.IntSlider(value=10, min=10, max=50., step=1, description='Iterations:')\n",
    "bs_widget = ipywidgets.IntSlider(value=1, min=1, max=X.shape[0], step=1, description='Batch size')\n",
    "\n",
    "def hyper_para_interact(eta, iter_n, batchsize):\n",
    "    opts = {'iter': iter_n,\n",
    "           'learning rate': \"None\",\n",
    "           'batchsize': batchsize,\n",
    "           \"eta0\": eta}\n",
    "    regressor = LinearReg(X, Y)\n",
    "    closed_form_w = regressor.w_closedform()\n",
    "    w0 = np.zeros(X.shape[1])\n",
    "    trajectory = GD(w0, regressor, opts=opts) \n",
    "    w_hat = trajectory[-1, :]\n",
    "    loss = regressor.test_loss(X, Y, w_hat)\n",
    "    \n",
    "    print('Closed form solution: ', closed_form_w)\n",
    "    print(f\"Solution by gradient descent: {w_hat}\")\n",
    "    print(f\"Training loss: {loss}\")\n",
    "    fig, ax = plt.subplots(figsize=(12,6))\n",
    "    ax.plot(X[:,-1], Y, '*', label=\"Real data\")\n",
    "    ax.plot(X[:,-1], np.dot(X, w_hat), label=\"Fitted solution\")\n",
    "    ax.plot(X[:,-1], np.dot(X, closed_form_w), label=\"Real solution\")\n",
    "    ax.legend(loc=\"upper left\", fontsize=13)\n",
    "    ax.set_title('Fitting of linear regression')\n",
    "    ax.set_xlabel('x')\n",
    "    ax.set_ylabel('y')\n",
    "    \n",
    "interact(hyper_para_interact, eta=eta_widget, iter_n=n_widget, batchsize=bs_widget)"
   ]
  },
  {
   "cell_type": "markdown",
   "metadata": {},
   "source": [
    "# Some adaptive learning rates\n",
    "\n",
    "* AdaGrad:\n",
    "\n",
    "    $\\eta_k = \\frac{\\eta_0}{\\sqrt{\\sum_{j=0}^k g_j^2}}$, where $g_j$ is the 2-norm gradient of $L$ at time $j$. \n",
    "\n",
    "\n",
    "* Annealing (From Stochastic Approximation) \n",
    "\n",
    "    $\\eta_{k} = \\frac{\\eta_0}{(k+1)^\\alpha}$, with $\\alpha \\in (0.5, 1]$\n",
    "    "
   ]
  },
  {
   "cell_type": "code",
   "execution_count": 121,
   "metadata": {},
   "outputs": [
    {
     "data": {
      "application/vnd.jupyter.widget-view+json": {
       "model_id": "792858db3b604764a2f818b7c7456553",
       "version_major": 2,
       "version_minor": 0
      },
      "text/plain": [
       "interactive(children=(FloatSlider(value=0.1, description='Initial learning rate', max=5.0, min=0.1), IntSlider…"
      ]
     },
     "metadata": {},
     "output_type": "display_data"
    },
    {
     "data": {
      "text/plain": [
       "<function __main__.interact_para(eta, n, batchsize, lrmode)>"
      ]
     },
     "execution_count": 121,
     "metadata": {},
     "output_type": "execute_result"
    }
   ],
   "source": [
    "eta_widget = ipywidgets.FloatSlider(value=1e-1, min=1e-1, max=5., step=1e-1, description='Initial learning rate')\n",
    "n_widget = ipywidgets.IntSlider(value=10, min=5, max=50., step=1, description='Iterations')\n",
    "bs_widget = ipywidgets.IntSlider(value=1, min=1, max=X.shape[0], step=1, description='Batch size')\n",
    "lr_mode = ipywidgets.Dropdown(options=['Adagrad', 'Annealing', 'None'], value='None', description='Learning rate method')\n",
    "\n",
    "def interact_para(eta, n, batchsize, lrmode):\n",
    "    opts = {'iter': n,\n",
    "           'eta0': eta,\n",
    "            'batchsize': batchsize,\n",
    "           'learning rate': lrmode} #add one more key to the dictionary for learning rate choice.\n",
    "    \n",
    "    w0 = np.zeros(X.shape[1])\n",
    "    regressor = LinearReg(X, Y)\n",
    "    closed_form_w = regressor.w_closedform()\n",
    "    trajectory = GD(w0, regressor, opts=opts)\n",
    "    w_hat = trajectory[-1, :]\n",
    "    \n",
    "    print('Closed form solution: ', closed_form_w)\n",
    "    print(f\"Solution by gradient descent: {w_hat}\")\n",
    "    fig, ax = plt.subplots(figsize=(12,6))\n",
    "    ax.plot(X[:,-1], Y, '*', label=\"Real data\")\n",
    "    ax.plot(X[:,-1], np.dot(X, w_hat), label=\"Fitted solution\")\n",
    "    ax.plot(X[:,-1], np.dot(X, closed_form_w), label=\"Real solution\")\n",
    "    ax.legend(loc=\"upper left\", fontsize=13)\n",
    "    ax.set_title('Fitting of linear regression')\n",
    "    ax.set_xlabel('x')\n",
    "    ax.set_ylabel('y')\n",
    "\n",
    "interact(interact_para, eta=eta_widget, n=n_widget, batchsize=bs_widget, lrmode=lr_mode)"
   ]
  },
  {
   "cell_type": "code",
   "execution_count": null,
   "metadata": {},
   "outputs": [],
   "source": []
  }
 ],
 "metadata": {
  "kernelspec": {
   "display_name": "Python 3",
   "language": "python",
   "name": "python3"
  },
  "language_info": {
   "codemirror_mode": {
    "name": "ipython",
    "version": 3
   },
   "file_extension": ".py",
   "mimetype": "text/x-python",
   "name": "python",
   "nbconvert_exporter": "python",
   "pygments_lexer": "ipython3",
   "version": "3.7.4"
  }
 },
 "nbformat": 4,
 "nbformat_minor": 2
}
