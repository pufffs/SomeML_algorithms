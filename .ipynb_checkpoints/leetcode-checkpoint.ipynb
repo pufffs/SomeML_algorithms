{
 "cells": [
  {
   "cell_type": "code",
   "execution_count": 49,
   "metadata": {},
   "outputs": [
    {
     "data": {
      "text/plain": [
       "[1, 2, 2, 3, 5, 6]"
      ]
     },
     "execution_count": 49,
     "metadata": {},
     "output_type": "execute_result"
    }
   ],
   "source": [
    "#Merge nums1 and nums2 into a single array sorted in non-decreasing order.\n",
    "class Solution1:\n",
    "    def merge(self, nums1, m, nums2, n):\n",
    "        \"\"\"\n",
    "        :type nums1: List[int]\n",
    "        :type m: int\n",
    "        :type nums2: List[int]\n",
    "        :type n: int\n",
    "        :rtype: None Do not return anything, modify nums1 in-place instead.\n",
    "        \"\"\"\n",
    "        for i in range(n):\n",
    "            nums1[m+i] = nums2[i]\n",
    "        nums1.sort()\n",
    "        return nums1\n",
    "nums1,m = [1,2,3,0,0,0], 3\n",
    "nums2,n = [2,5,6], 3\n",
    "Solution1().merge(nums1,m,nums2,n)"
   ]
  },
  {
   "cell_type": "code",
   "execution_count": 56,
   "metadata": {},
   "outputs": [
    {
     "data": {
      "text/plain": [
       "[2, 2, 2, 3]"
      ]
     },
     "execution_count": 56,
     "metadata": {},
     "output_type": "execute_result"
    }
   ],
   "source": [
    "#Remove Element\n",
    "class Solution2:\n",
    "    def removeElement(self, nums, val):\n",
    "        \"\"\"\n",
    "        :type nums: List[int]\n",
    "        :type val: int\n",
    "        :rtype: int\n",
    "        \"\"\"\n",
    "        index = 0\n",
    "        for i in range(len(nums)):\n",
    "            if nums[i] != val:\n",
    "                nums[index] = nums[i]\n",
    "                index += 1\n",
    "        return index\n",
    "L = [3,2,2,3]\n",
    "Solution2().removeElement(L,3)"
   ]
  },
  {
   "cell_type": "code",
   "execution_count": 67,
   "metadata": {},
   "outputs": [
    {
     "name": "stdout",
     "output_type": "stream",
     "text": [
      "[0, 1, 2, 3, 4, 2, 2, 3, 3, 4]\n"
     ]
    },
    {
     "data": {
      "text/plain": [
       "5"
      ]
     },
     "execution_count": 67,
     "metadata": {},
     "output_type": "execute_result"
    }
   ],
   "source": [
    "#Remove Duplicates from Sorted Array\n",
    "class Solution3:\n",
    "    def removeDuplicates(self, nums):\n",
    "        \"\"\"\n",
    "        :type nums: List[int]\n",
    "        :rtype: int\n",
    "        \"\"\"\n",
    "        index = 1\n",
    "        for i in range(1, len(nums)):\n",
    "            if nums[i] != nums[i-1]:\n",
    "                nums[index] = nums[i]\n",
    "                index += 1\n",
    "        print(nums)\n",
    "        return index\n",
    "\n",
    "nums = [0,0,1,1,1,2,2,3,3,4]\n",
    "Solution3().removeDuplicates(nums)"
   ]
  },
  {
   "cell_type": "code",
   "execution_count": 72,
   "metadata": {},
   "outputs": [
    {
     "data": {
      "text/plain": [
       "True"
      ]
     },
     "execution_count": 72,
     "metadata": {},
     "output_type": "execute_result"
    }
   ],
   "source": [
    "# Valid Palindrome\n",
    "class Solution4(object):\n",
    "    def isPalindrome(self, s):\n",
    "        \"\"\"\n",
    "        :type s: str\n",
    "        :rtype: bool\n",
    "        \"\"\"\n",
    "        s1 = ''.join(char.lower() for char in s if char.isalnum())\n",
    "        s2 = s1[::-1]\n",
    "        return s1==s2\n",
    "s =\"A man, a plan, a canal: Panama\"\n",
    "Solution4().isPalindrome(s)"
   ]
  },
  {
   "cell_type": "markdown",
   "metadata": {},
   "source": [
    "  "
   ]
  },
  {
   "cell_type": "code",
   "execution_count": 86,
   "metadata": {},
   "outputs": [
    {
     "data": {
      "text/plain": [
       "False"
      ]
     },
     "execution_count": 86,
     "metadata": {},
     "output_type": "execute_result"
    }
   ],
   "source": [
    "# Subsequence: Given two strings s and t, return true if s is a subsequence of t, or false otherwise.\n",
    "class Solution5(object):\n",
    "    def isSubsequence(self, s, t):\n",
    "        \"\"\"\n",
    "        :type s: str\n",
    "        :type t: str\n",
    "        :rtype: bool\n",
    "        \"\"\"\n",
    "        if len(s) > len(t):return False\n",
    "        if len(s) == 0:return True\n",
    "        index = 0\n",
    "        for i in range(len(t)):\n",
    "            if index<=len(s)-1 and t[i] == s[index]:\n",
    "                index += 1\n",
    "        return index==len(s)\n",
    "\n",
    "        \"\"\"\n",
    "        i = 0\n",
    "        j = 0\n",
    "        while i < len(s) and j < len(t):\n",
    "            if s[i] == t[j]:\n",
    "                i+=1\n",
    "            j+=1\n",
    "        return True if i == len(s) else False\n",
    "        \"\"\"\n",
    "s=\"acc\"\n",
    "t=\"ahbgdc\"\n",
    "Solution5().isSubsequence(s,t)"
   ]
  },
  {
   "cell_type": "code",
   "execution_count": 84,
   "metadata": {},
   "outputs": [],
   "source": [
    "#Two sums\n",
    "class Solution(object):\n",
    "    def twoSum(self, nums, target):\n",
    "        \"\"\"\n",
    "        :type nums: List[int]\n",
    "        :type target: int\n",
    "        :rtype: List[int]\n",
    "        \n",
    "        index1 = 0\n",
    "        index2 = 0\n",
    "        for i in range(len(nums)):\n",
    "            dif = target - nums[i]  \n",
    "            nums1 = nums[i+1:]\n",
    "            if dif in nums1:\n",
    "                index1 = i\n",
    "                index2 = nums1.index(dif)+i+1\n",
    "                break\n",
    "        return [index1, index2]\n",
    "        \"\"\"\n",
    "        hm = {}\n",
    "        for i in range(len(nums)):\n",
    "            dif = target - nums[i]\n",
    "            if dif in hm:\n",
    "                return [i, hm[dif]]\n",
    "            hm[nums[i]] = i   "
   ]
  },
  {
   "cell_type": "code",
   "execution_count": null,
   "metadata": {},
   "outputs": [],
   "source": [
    "# Ransom Note: Given two strings ransomNote and magazine, return true if ransomNote can be \n",
    "# constructed by using the letters from magazine and false otherwise.\n",
    "# Each letter in magazine can only be used once in ransomNote.\n",
    "class Solution(object):\n",
    "    def canConstruct(self, ransomNote, magazine):\n",
    "        \"\"\"\n",
    "        :type ransomNote: str\n",
    "        :type magazine: str\n",
    "        :rtype: bool\n",
    "        \"\"\"\n",
    "        hm = {}\n",
    "        for i in magazine:\n",
    "            hm[i] = hm.get(i,0) + 1\n",
    "        for j in ransomNote:\n",
    "            if j in hm and hm[j]>0:\n",
    "                hm[j] -= 1\n",
    "            else:\n",
    "                return False\n",
    "        return True\n",
    "        #return all(ransomNote.count(c) <= magazine.count(c) for c in set(ransomNote))"
   ]
  },
  {
   "cell_type": "code",
   "execution_count": 23,
   "metadata": {},
   "outputs": [
    {
     "data": {
      "text/plain": [
       "2"
      ]
     },
     "execution_count": 23,
     "metadata": {},
     "output_type": "execute_result"
    }
   ],
   "source": [
    "# Two strings s and t are isomorphic if the characters in s can be replaced to get t.\n",
    "class Solution(object):\n",
    "    def isIsomorphic(self, s, t):\n",
    "        \"\"\"\n",
    "        :type s: str\n",
    "        :type t: str\n",
    "        :rtype: bool\n",
    "        \"\"\"\n",
    "        hm = {}\n",
    "        for i in range(len(s)):\n",
    "            hm[s[i]] = t[i]\n",
    "        if len(set(hm.values())) != len(hm.keys()):\n",
    "            return False\n",
    "        new = \"\".join([hm[char] for char in s])\n",
    "        return new == t\n",
    "        #return len(set(s))==len(set(zip(s,t)))==len(set(t))"
   ]
  },
  {
   "cell_type": "code",
   "execution_count": null,
   "metadata": {},
   "outputs": [],
   "source": []
  },
  {
   "cell_type": "code",
   "execution_count": null,
   "metadata": {},
   "outputs": [],
   "source": []
  },
  {
   "cell_type": "code",
   "execution_count": null,
   "metadata": {},
   "outputs": [],
   "source": []
  },
  {
   "cell_type": "code",
   "execution_count": null,
   "metadata": {},
   "outputs": [],
   "source": []
  },
  {
   "cell_type": "code",
   "execution_count": null,
   "metadata": {},
   "outputs": [],
   "source": []
  },
  {
   "cell_type": "code",
   "execution_count": null,
   "metadata": {},
   "outputs": [],
   "source": []
  },
  {
   "cell_type": "code",
   "execution_count": null,
   "metadata": {},
   "outputs": [],
   "source": []
  },
  {
   "cell_type": "code",
   "execution_count": null,
   "metadata": {},
   "outputs": [],
   "source": []
  }
 ],
 "metadata": {
  "kernelspec": {
   "display_name": "Python 3 (ipykernel)",
   "language": "python",
   "name": "python3"
  },
  "language_info": {
   "codemirror_mode": {
    "name": "ipython",
    "version": 3
   },
   "file_extension": ".py",
   "mimetype": "text/x-python",
   "name": "python",
   "nbconvert_exporter": "python",
   "pygments_lexer": "ipython3",
   "version": "3.9.12"
  }
 },
 "nbformat": 4,
 "nbformat_minor": 2
}
