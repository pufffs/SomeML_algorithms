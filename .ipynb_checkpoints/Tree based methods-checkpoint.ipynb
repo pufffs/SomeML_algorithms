{
 "cells": [
  {
   "cell_type": "code",
   "execution_count": 3,
   "metadata": {},
   "outputs": [],
   "source": [
    "import numpy as np\n",
    "from sklearn.datasets import load_wine\n",
    "from sklearn.model_selection import train_test_split\n",
    "from sklearn.tree import DecisionTreeClassifier\n",
    "from sklearn.datasets import make_regression, make_classification\n",
    "from matplotlib import pyplot as plt\n",
    "import re\n",
    "\n",
    "from packages.Util import CV, Bootstrap\n",
    "from packages.Trees import ClassifierTree, RegressionTree"
   ]
  },
  {
   "cell_type": "markdown",
   "metadata": {},
   "source": [
    "# Classification"
   ]
  },
  {
   "cell_type": "markdown",
   "metadata": {},
   "source": [
    "Toy dataset for classification task"
   ]
  },
  {
   "cell_type": "code",
   "execution_count": 13,
   "metadata": {},
   "outputs": [],
   "source": [
    "#X, y= make_classification(n_samples=500, n_features=10, n_classes=2)\n",
    "dataset = load_wine()\n",
    "X, y = dataset.data, dataset.target #another dataset.\n",
    "X_train, X_test, y_train, y_test = train_test_split(X,y, stratify=y, random_state=24)"
   ]
  },
  {
   "cell_type": "markdown",
   "metadata": {},
   "source": [
    "------------------------------------------------------------------------------------------------------------------------"
   ]
  },
  {
   "cell_type": "code",
   "execution_count": 15,
   "metadata": {},
   "outputs": [
    {
     "data": {
      "text/plain": [
       "array([0, 1, 0, 0, 0, 1, 1, 0, 2, 1, 0, 2, 0, 0, 1, 2, 0, 1, 0, 1, 0, 0,\n",
       "       1, 1, 0, 0, 2, 2, 1, 1, 0, 1, 2, 0, 1, 2, 2, 0, 1, 0, 1, 0, 2, 2,\n",
       "       1], dtype=int64)"
      ]
     },
     "execution_count": 15,
     "metadata": {},
     "output_type": "execute_result"
    }
   ],
   "source": [
    "Classifier = ClassifierTree(5,5, 0.)\n",
    "Classifier.fit(X_train, y_train)\n",
    "preds = Classifier.predict(X_test)\n",
    "preds"
   ]
  },
  {
   "cell_type": "markdown",
   "metadata": {},
   "source": [
    "To calibrate the algorithm, here I use the module imported from the well-known sklearn: We can find that they give almost identical predictions. "
   ]
  },
  {
   "cell_type": "code",
   "execution_count": 22,
   "metadata": {},
   "outputs": [
    {
     "data": {
      "text/plain": [
       "array([0, 1, 0, 0, 1, 1, 1, 0, 2, 1, 0, 2, 0, 0, 1, 2, 0, 1, 0, 1, 0, 1,\n",
       "       1, 1, 0, 0, 2, 2, 1, 1, 0, 1, 2, 0, 1, 2, 2, 0, 1, 0, 1, 1, 2, 2,\n",
       "       1])"
      ]
     },
     "execution_count": 22,
     "metadata": {},
     "output_type": "execute_result"
    }
   ],
   "source": [
    "skl = DecisionTreeClassifier(splitter=\"best\", random_state=42, max_depth=4)\n",
    "skl.fit(X_train,y_train)\n",
    "skl_preds = skl.predict(X_test)\n",
    "skl_preds"
   ]
  },
  {
   "cell_type": "code",
   "execution_count": 24,
   "metadata": {},
   "outputs": [
    {
     "name": "stdout",
     "output_type": "stream",
     "text": [
      "My accuracy: 0.8666666666666667\n",
      "sklearn accuracy: 0.8888888888888888\n"
     ]
    }
   ],
   "source": [
    "accuracy1 = (preds==y_test).sum() / y_test.size\n",
    "accuracy2 = (skl_preds==y_test).sum() / y_test.size\n",
    "print(f\"My accuracy: {accuracy1}\")\n",
    "print(f\"sklearn accuracy: {accuracy2}\")"
   ]
  },
  {
   "cell_type": "markdown",
   "metadata": {},
   "source": [
    "The prediction accuracy also coincides."
   ]
  },
  {
   "cell_type": "markdown",
   "metadata": {},
   "source": [
    "## Cross-validation for choosing $\\alpha$"
   ]
  },
  {
   "cell_type": "code",
   "execution_count": 3,
   "metadata": {},
   "outputs": [],
   "source": [
    "opts = {\"error_type\":\"Misclassification\",\n",
    "       \"alpha\": 0.}\n",
    "Misclassification = []\n",
    "obj = CV(X, y, 10, ClassifierTree)\n",
    "for alpha in np.linspace(0,0.2,51):\n",
    "    opts[\"alpha\"] = alpha\n",
    "    cv_error = obj.Tree_CV(opts)\n",
    "    Misclassification.append(cv_error)"
   ]
  },
  {
   "cell_type": "markdown",
   "metadata": {},
   "source": [
    "Above we choose a proper range of __$\\alpha$__ and choose the best one by comparing cross-validation misclassification error"
   ]
  },
  {
   "cell_type": "code",
   "execution_count": 4,
   "metadata": {},
   "outputs": [
    {
     "data": {
      "text/plain": [
       "(0.012, 0.10065359477124185)"
      ]
     },
     "execution_count": 4,
     "metadata": {},
     "output_type": "execute_result"
    }
   ],
   "source": [
    "lowest_error = Misclassification[np.argmin(np.array(Misclassification))] # this is the lowest misclassification rate by CV\n",
    "alpha = np.linspace(0,0.2,51)[np.argmin(np.array(Misclassification))] # this is the best alpha chosen by CV\n",
    "(alpha, lowest_error)"
   ]
  },
  {
   "cell_type": "code",
   "execution_count": 35,
   "metadata": {},
   "outputs": [
    {
     "name": "stdout",
     "output_type": "stream",
     "text": [
      "Number of tree nodes without pruning: 8\n",
      "Number of tree nodes with pruning: 7\n"
     ]
    }
   ],
   "source": [
    "Cls = ClassifierTree(5,5,alpha) # plug in the optimal alpha and train the tree with the training/test split dataset.\n",
    "Cls.fit(X_train, y_train)\n",
    "nn = Cls.node_number # the number of tree nodes with penalty alpha.\n",
    "Cls0 = ClassifierTree(5,5,0.)\n",
    "Cls0.fit(X_train,y_train)\n",
    "nn0 = Cls0.node_number # the number of tree nodes without any penalty, given the same full data as above.\n",
    "print(f\"Number of tree nodes without pruning: {nn0}\")\n",
    "print(f\"Number of tree nodes with pruning: {nn}\")"
   ]
  },
  {
   "cell_type": "markdown",
   "metadata": {},
   "source": [
    "We can see after pruning the tree, the number of nodes decrease to 7 from 8. And now take a look at the prediction accuracy of the two models:"
   ]
  },
  {
   "cell_type": "code",
   "execution_count": 36,
   "metadata": {},
   "outputs": [
    {
     "name": "stdout",
     "output_type": "stream",
     "text": [
      "Accuracy without pruning:0.9777777777777777\n",
      "Accuracy with pruning:1.0\n"
     ]
    }
   ],
   "source": [
    "preds = Cls.predict(X_test)\n",
    "preds0 = Cls0.predict(X_test)\n",
    "accuracy = (preds==y_test).sum() / y_test.size\n",
    "accuracy0 = (preds0==y_test).sum() / y_test.size\n",
    "print(f\"Accuracy without pruning:{accuracy0}\")\n",
    "print(f\"Accuracy with pruning:{accuracy}\")"
   ]
  },
  {
   "cell_type": "markdown",
   "metadata": {},
   "source": [
    "## Bootstrap and Bagging\n",
    "Bagging provides another way to predict on testing data and can reduce testing error by removing the extra variance caused by bagging estimator $\\hat f^{*}(x)$ when samples come from the true population. When using non-parametric bootstrap to draw samples from the original data, it will usually decrease the testing error as well. More details in ESL(Element of Statistical Learning) book."
   ]
  },
  {
   "cell_type": "code",
   "execution_count": 9,
   "metadata": {},
   "outputs": [],
   "source": [
    "BS = Bootstrap(X_train, y_train, ClassifierTree)\n",
    "BS.bagging_fit()\n",
    "preds1 = BS.tree_predict(X_test, \"Consensus\")\n",
    "preds2 = BS.tree_predict(X_test, \"Probability\")"
   ]
  },
  {
   "cell_type": "markdown",
   "metadata": {},
   "source": [
    "When making predictions for classification task by bagging, we have two choices:\n",
    "\n",
    "1. Majority vote: for each observation, vote for the most occuring class out of B predictions by B models.\n",
    "2. Averaged probability: for each observation, calculate the averaged probabilities of each class out of B models, and choose the class with the highest averaged probability. Here the probability of each class is evaluated at the node where this testing observation belongs to."
   ]
  },
  {
   "cell_type": "code",
   "execution_count": 10,
   "metadata": {},
   "outputs": [
    {
     "name": "stdout",
     "output_type": "stream",
     "text": [
      "Making prediction by majority vote: 0.8888888888888888\n",
      "Making prediction by averaged class-wise probability: 0.8888888888888888\n"
     ]
    }
   ],
   "source": [
    "accuracy1 = np.mean(preds1==y_test)\n",
    "accuracy2 = np.mean(preds2==y_test)\n",
    "print(f\"Making prediction by majority vote: {accuracy1}\")\n",
    "print(f\"Making prediction by averaged class-wise probability: {accuracy2}\")"
   ]
  },
  {
   "cell_type": "markdown",
   "metadata": {},
   "source": [
    "Bagging not only offers a way to assess the prediction, it can also be used to estimate the the out-of-bag error, which is similar to that of cross-validation. Since we know for each observation in the original data, there are around $\\frac{B}{3}$ bootstrap models not containing it, so these models can then be used to do the testing-prediction for this observation. Similar to cross-validation, with this setting we can also do tuning parameter selection! Furthermore, if number of bootstrap sets $B$ is large enough, the OOB error is actually the LOOCV error! (for observation i, when B large enough, everytime the data used for training includes all the data except the i-th observation)"
   ]
  },
  {
   "cell_type": "code",
   "execution_count": 11,
   "metadata": {},
   "outputs": [
    {
     "data": {
      "text/plain": [
       "0.06015037593984962"
      ]
     },
     "execution_count": 11,
     "metadata": {},
     "output_type": "execute_result"
    }
   ],
   "source": [
    "BS.OOB_error(B=100, error_type=\"Misclassification\")"
   ]
  },
  {
   "cell_type": "markdown",
   "metadata": {},
   "source": [
    "# Regression"
   ]
  },
  {
   "cell_type": "markdown",
   "metadata": {},
   "source": [
    "Toy dataset for regression task"
   ]
  },
  {
   "cell_type": "code",
   "execution_count": 2,
   "metadata": {},
   "outputs": [],
   "source": [
    "x_full, y_full, coef = make_regression(n_samples=200,n_features=10, coef=True)\n",
    "X_train, X_test, y_train, y_test = train_test_split(x_full, y_full, random_state=42)"
   ]
  },
  {
   "cell_type": "markdown",
   "metadata": {},
   "source": [
    "------------------------------------------------------------------------------------------------------------------------"
   ]
  },
  {
   "cell_type": "code",
   "execution_count": 11,
   "metadata": {},
   "outputs": [],
   "source": [
    "B = RegressionTree(5,5, 0.)\n",
    "B.fit(X_train, y_train)\n",
    "preds = B.predict(X_test[0])"
   ]
  },
  {
   "cell_type": "code",
   "execution_count": 12,
   "metadata": {},
   "outputs": [
    {
     "data": {
      "text/plain": [
       "array([-37.84539275])"
      ]
     },
     "execution_count": 12,
     "metadata": {},
     "output_type": "execute_result"
    }
   ],
   "source": [
    "preds"
   ]
  },
  {
   "cell_type": "code",
   "execution_count": 26,
   "metadata": {},
   "outputs": [
    {
     "data": {
      "text/plain": [
       "[<matplotlib.lines.Line2D at 0x291b8f103c8>]"
      ]
     },
     "execution_count": 26,
     "metadata": {},
     "output_type": "execute_result"
    },
    {
     "data": {
      "image/png": "[encoded data removed]",
      "text/plain": [
       "<Figure size 432x288 with 1 Axes>"
      ]
     },
     "metadata": {
      "needs_background": "light"
     },
     "output_type": "display_data"
    }
   ],
   "source": [
    "plt.plot(X_test[:,np.argmax(coef)], y_test, \"o\")\n",
    "plt.plot(X_test[:,np.argmax(coef)], preds, \"*\")"
   ]
  },
  {
   "cell_type": "markdown",
   "metadata": {},
   "source": [
    "## Cross-validation for choosing penalty tuning parameter $\\alpha$\n",
    "\n",
    "The process of implementing cross-validation for penalized regression tree is similar to what we have done for classification tree. One noticeable thing is that when comparing whether to split or not at each node, I used $log(rss)$ instead just $rss$, this will make life easier to choose tuning parameter. Otherwise for some data with very large response values, a small $\\alpha$ can be neglected."
   ]
  },
  {
   "cell_type": "code",
   "execution_count": 54,
   "metadata": {},
   "outputs": [],
   "source": [
    "alphas = np.linspace(0,0.3,51)"
   ]
  },
  {
   "cell_type": "code",
   "execution_count": 55,
   "metadata": {},
   "outputs": [],
   "source": [
    "opts = {\"error_type\":\"RSS\",\n",
    "       \"alpha\": 0.}\n",
    "Rss = []\n",
    "obj = CV(x_full, y_full, 10, RegressionTree)\n",
    "for alpha in alphas:\n",
    "    opts[\"alpha\"] = alpha\n",
    "    cv_error = obj.Tree_CV(opts)\n",
    "    Rss.append(cv_error)"
   ]
  },
  {
   "cell_type": "code",
   "execution_count": 62,
   "metadata": {},
   "outputs": [
    {
     "data": {
      "text/plain": [
       "(0.192, 318971.1746505328)"
      ]
     },
     "execution_count": 62,
     "metadata": {},
     "output_type": "execute_result"
    }
   ],
   "source": [
    "lowest_rss = Rss[np.argmin(np.array(Rss))]\n",
    "alpha = alphas[np.argmin(np.array(Rss))]\n",
    "(alpha, lowest_rss) #the optimal alpha and the coresponding cross validation error. "
   ]
  },
  {
   "cell_type": "code",
   "execution_count": 60,
   "metadata": {},
   "outputs": [
    {
     "name": "stdout",
     "output_type": "stream",
     "text": [
      "Number of tree nodes without pruning: 27\n",
      "Number of tree nodes with pruning: 15\n"
     ]
    }
   ],
   "source": [
    "RT = RegressionTree(5,5,alpha) # plug in the optimal alpha and train the tree with the training/test split dataset.\n",
    "RT.fit(X_train, y_train)\n",
    "nn = RT.node_number # the number of tree nodes with penalty alpha.\n",
    "\n",
    "RT0 = RegressionTree(5,5,0.)\n",
    "RT0.fit(X_train,y_train)\n",
    "nn0 = RT0.node_number # the number of tree nodes without any penalty, given the same data as above.\n",
    "print(f\"Number of tree nodes without pruning: {nn0}\")\n",
    "print(f\"Number of tree nodes with pruning: {nn}\")"
   ]
  },
  {
   "cell_type": "code",
   "execution_count": 76,
   "metadata": {},
   "outputs": [
    {
     "name": "stdout",
     "output_type": "stream",
     "text": [
      "Prediction RSS without pruning:1270358.3138742454\n",
      "Prediction RSS with pruning:772178.7529989025\n"
     ]
    }
   ],
   "source": [
    "preds = RT.predict(X_test)\n",
    "preds0 = RT0.predict(X_test)\n",
    "RSS = np.sum(np.square(preds-y_test))\n",
    "RSS0 = np.sum(np.square(preds0-y_test))\n",
    "print(f\"Prediction RSS without pruning:{RSS0}\")\n",
    "print(f\"Prediction RSS with pruning:{RSS}\")"
   ]
  },
  {
   "cell_type": "markdown",
   "metadata": {},
   "source": [
    "As we can see above, adding some penalty term really reduces prediction error! And we use only 15 nodes instead of 27."
   ]
  },
  {
   "cell_type": "code",
   "execution_count": 75,
   "metadata": {},
   "outputs": [
    {
     "data": {
      "text/plain": [
       "<matplotlib.legend.Legend at 0x291ba9c3648>"
      ]
     },
     "execution_count": 75,
     "metadata": {},
     "output_type": "execute_result"
    },
    {
     "data": {
      "image/png": "[encoded data removed]",
      "text/plain": [
       "<Figure size 864x432 with 1 Axes>"
      ]
     },
     "metadata": {
      "needs_background": "light"
     },
     "output_type": "display_data"
    }
   ],
   "source": [
    "fig,ax = plt.subplots(figsize=(12,6))\n",
    "ax.plot(X_test[:,np.argmax(coef)], y_test, \"bo\", label=\"True data\")\n",
    "ax.plot(X_test[:,np.argmax(coef)], preds, \"r*\", label=\"Prediction by pruned tree\")\n",
    "ax.plot(X_test[:,np.argmax(coef)], preds0, \"ks\", label=\"Prediction by full tree\")\n",
    "ax.legend()"
   ]
  },
  {
   "cell_type": "markdown",
   "metadata": {},
   "source": [
    "Visulization tells that the full tree performs worse on those distant points, however pruned tree more or less catches those points! "
   ]
  },
  {
   "cell_type": "markdown",
   "metadata": {},
   "source": [
    "## Bootstrap and Bagging\n",
    "Similar to classification, just with different metrics."
   ]
  },
  {
   "cell_type": "code",
   "execution_count": 3,
   "metadata": {},
   "outputs": [],
   "source": [
    "BS = Bootstrap(X_train, y_train, RegressionTree)\n",
    "BS.bagging_fit(10)\n",
    "preds = BS.tree_predict(X_test, \"Average\")"
   ]
  },
  {
   "cell_type": "code",
   "execution_count": 5,
   "metadata": {},
   "outputs": [
    {
     "data": {
      "text/plain": [
       "20914.05600534899"
      ]
     },
     "execution_count": 5,
     "metadata": {},
     "output_type": "execute_result"
    }
   ],
   "source": [
    "MSE = np.mean(np.square(preds-y_test)) \n",
    "MSE"
   ]
  },
  {
   "cell_type": "code",
   "execution_count": 4,
   "metadata": {},
   "outputs": [
    {
     "data": {
      "text/plain": [
       "23194.41612245535"
      ]
     },
     "execution_count": 4,
     "metadata": {},
     "output_type": "execute_result"
    }
   ],
   "source": [
    "MSE1 = BS.OOB_error(B=10, error_type=\"MSE\")\n",
    "MSE1"
   ]
  },
  {
   "cell_type": "markdown",
   "metadata": {},
   "source": [
    "------------------------------------------------------------------------------------------------------------------------------"
   ]
  }
 ],
 "metadata": {
  "kernelspec": {
   "display_name": "Python 3",
   "language": "python",
   "name": "python3"
  },
  "language_info": {
   "codemirror_mode": {
    "name": "ipython",
    "version": 3
   },
   "file_extension": ".py",
   "mimetype": "text/x-python",
   "name": "python",
   "nbconvert_exporter": "python",
   "pygments_lexer": "ipython3",
   "version": "3.7.4"
  }
 },
 "nbformat": 4,
 "nbformat_minor": 2
}
